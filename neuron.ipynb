{
 "cells": [
  {
   "cell_type": "code",
   "execution_count": 2,
   "metadata": {},
   "outputs": [],
   "source": [
    "import numpy as np\n",
    "import matplotlib.pyplot as plt"
   ]
  },
  {
   "cell_type": "markdown",
   "metadata": {},
   "source": [
    "Define class of single neuron"
   ]
  },
  {
   "cell_type": "code",
   "execution_count": 3,
   "metadata": {},
   "outputs": [],
   "source": [
    "class Neuron:\n",
    "    \n",
    "    def __init__(self, x, labels, w): # A neuron can be unambigiously defined as a vector of weight\n",
    "                                      # Vector of weights is (w_0, w_1, ... w_n), where n-1 is dimension of input\n",
    "                                      # and w_0 is bias.\n",
    "        self.x = x # But our class will also have set of input and labels as attributes\n",
    "        self.labels = labels \n",
    "        self.w = w\n",
    "    \n",
    "    def summ(self, w, x): # The \"Heart\" of neuron which calculates the activation finction\n",
    "                          # We'll call it summ as it is practically a summator\n",
    "        res = w[0]        \n",
    "        for i in range(1, len(w)): \n",
    "            res += w[i]*x[i-1]\n",
    "        return res\n",
    "    \n",
    "    def sign(self, val):\n",
    "        return -1 if val<=0 else 1\n",
    "    \n",
    "    def col(self, i):\n",
    "        return 'blue' if self.labels[i] == 1 else 'red'\n",
    "    \n",
    "    def x1(self, x):\n",
    "        return -1*(self.w[0] + self.w[1]*x)/self.w[2]\n",
    "    \n",
    "    def learn(self):\n",
    "        N = 100\n",
    "        alpha = 0.1 # Learning rate\n",
    "        for i in range(N):\n",
    "            mismatch = 0\n",
    "            for j in range(len(self.x)):\n",
    "                y = self.sign(self.summ(self.w, self.x[j]))\n",
    "                if y * self.labels[j] < 0:\n",
    "                    mismatch = 1\n",
    "                    self.w[0] += alpha * self.labels[j]\n",
    "                    for i in range(1, len(self.w)):\n",
    "                        self.w[i] += alpha*self.labels[j]*self.x[j][i-1]\n",
    "                    \n",
    "            if mismatch == 0:\n",
    "                print('Learning complete on', i, '-th step.')\n",
    "                x0 = []; x1 = []\n",
    "                try:\n",
    "                    for i in range(len(self.x)):\n",
    "                        x0.append(self.x[i][0])\n",
    "                        plt.scatter(self.x[i][0], self.x[i][1], color = self.col(i))\n",
    "                    plt.plot(x0, [self.x1(x) for x in x0])\n",
    "                    print('\\n \\n \\t Blue - ones, red - zeros')\n",
    "                except IndexError:\n",
    "                    print(self.w)\n",
    "                break\n",
    "                \n",
    "    def output(self, x_input): # Output function which will give out zero or one\n",
    "                               # as we are working with logical operations\n",
    "        return 1 if \\\n",
    "    self.sign(self.summ(self.w, x_input)) == 1 else 0\n",
    "\n",
    "    \n",
    "    "
   ]
  },
  {
   "cell_type": "markdown",
   "metadata": {},
   "source": [
    "Our first neuron will find learn to do logical AND. "
   ]
  },
  {
   "cell_type": "code",
   "execution_count": 6,
   "metadata": {
    "scrolled": true
   },
   "outputs": [
    {
     "name": "stdout",
     "output_type": "stream",
     "text": [
      "Learning complete on 4 -th step.\n",
      "\n",
      " \n",
      " \t Blue - ones, red - zeros\n"
     ]
    },
    {
     "data": {
      "image/png": "[encoded data removed]",
      "text/plain": [
       "<Figure size 432x288 with 1 Axes>"
      ]
     },
     "metadata": {
      "needs_background": "light"
     },
     "output_type": "display_data"
    }
   ],
   "source": [
    "x_1 = np.array([[1, 1]]) # where label is 1\n",
    "x_0 = np.array([[0, 0], [0, 1], [1, 0]]) # where label is 0\n",
    "\n",
    "n_and = Neuron(np.concatenate((x_1, x_0)), np.concatenate((np.ones(x_1.shape[0]), -1*np.ones(x_0.shape[0]))), np.random.rand(3))\n",
    "n_and.learn()"
   ]
  },
  {
   "cell_type": "markdown",
   "metadata": {},
   "source": [
    "So basically we find such weigths that line defined by function\n",
    "$$ x_{1} = \\frac{-(w_{0} + w_{1} x_{0})}{w_{2}}$$\n",
    "will devide input set into two sets, one of which belogns to label 1 and other to label 0"
   ]
  },
  {
   "cell_type": "markdown",
   "metadata": {},
   "source": [
    "The second neuron will learn logical OR"
   ]
  },
  {
   "cell_type": "code",
   "execution_count": 16,
   "metadata": {},
   "outputs": [
    {
     "name": "stdout",
     "output_type": "stream",
     "text": [
      "Learning complete on 10 -th step.\n",
      "\n",
      " \n",
      " \t Blue - ones, red - zeros\n"
     ]
    },
    {
     "data": {
      "image/png": "[encoded data removed]",
      "text/plain": [
       "<Figure size 432x288 with 1 Axes>"
      ]
     },
     "metadata": {
      "needs_background": "light"
     },
     "output_type": "display_data"
    }
   ],
   "source": [
    "x_1 = np.array([[1, 1], [1, 0], [0, 1]]) # label 1\n",
    "x_0 = np.array([[0, 0]]) # label 0\n",
    "n_or = Neuron(np.concatenate((x_1, x_0)), np.concatenate((np.ones(x_1.shape[0]), -1*np.ones(x_0.shape[0]))), np.random.rand(3))\n",
    "n_or.learn()"
   ]
  },
  {
   "cell_type": "markdown",
   "metadata": {},
   "source": [
    "It's known that operation of logical XOR (exclusive or) principally can not be implemented by one neuron as sets of zeros and ones of this operation can not be linearly divided."
   ]
  },
  {
   "cell_type": "code",
   "execution_count": 15,
   "metadata": {},
   "outputs": [
    {
     "data": {
      "image/png": "[encoded data removed]",
      "text/plain": [
       "<Figure size 432x288 with 1 Axes>"
      ]
     },
     "metadata": {
      "needs_background": "light"
     },
     "output_type": "display_data"
    }
   ],
   "source": [
    "def col(i):\n",
    "    return 'blue' if labels[i] == 1 else 'red'\n",
    "x_1 = np.array([[1, 1], [1, 0], [0, 1]]) # label 1\n",
    "x_0 = np.array([[0, 0]]) # label 0\n",
    "x_1 = np.array([[1, 0], [0, 1]]) # label 1\n",
    "x_0 = np.array([[0, 0], [1, 1]]) # label 0\n",
    "x = np.concatenate((x_1, x_0))\n",
    "labels = np.concatenate((np.ones(x_1.shape[0]), -1*np.ones(x_0.shape[0])))\n",
    "for i in range(len(x)):\n",
    "    plt.scatter(x[i][0], x[i][1], color = col(i))"
   ]
  },
  {
   "cell_type": "markdown",
   "metadata": {},
   "source": [
    "But we are still going to implement it by inputting the outputs of AND-neuron and OR-neuron into another OR-neuron, i.e. implement mainterm form of XOR:\n",
    "$$ \\bar{x} \\cdot y + x \\cdot \\bar{y} $$"
   ]
  },
  {
   "cell_type": "markdown",
   "metadata": {},
   "source": [
    "But we are also going to need a NOT-neuron"
   ]
  },
  {
   "cell_type": "code",
   "execution_count": 17,
   "metadata": {},
   "outputs": [],
   "source": [
    "x_not = np.array([[0], [1]])\n",
    "labels_not = np.array([1, -1])"
   ]
  },
  {
   "cell_type": "code",
   "execution_count": 18,
   "metadata": {},
   "outputs": [],
   "source": [
    "n_not = Neuron(x_not, labels_not, np.random.rand(2))"
   ]
  },
  {
   "cell_type": "code",
   "execution_count": 19,
   "metadata": {},
   "outputs": [
    {
     "name": "stdout",
     "output_type": "stream",
     "text": [
      "Learning complete on 5 -th step.\n",
      "[ 0.11904823 -0.26721402]\n"
     ]
    }
   ],
   "source": [
    "n_not.learn()"
   ]
  },
  {
   "cell_type": "code",
   "execution_count": 20,
   "metadata": {
    "scrolled": true
   },
   "outputs": [
    {
     "data": {
      "text/plain": [
       "0"
      ]
     },
     "execution_count": 20,
     "metadata": {},
     "output_type": "execute_result"
    }
   ],
   "source": [
    "n_not.output([1])"
   ]
  },
  {
   "cell_type": "code",
   "execution_count": 21,
   "metadata": {},
   "outputs": [],
   "source": [
    "def prepare_for_xor(x):\n",
    "    x_xor = np.empty(x.shape)\n",
    "    for i in range(len(x)):\n",
    "        x_xor[i] = [n_and.output([n_not.output([x[i][0]]), x[i][1]]), \\\n",
    "                n_and.output([x[i][0], n_not.output([x[i][1]])])]\n",
    "    return x_xor"
   ]
  },
  {
   "cell_type": "markdown",
   "metadata": {},
   "source": [
    "In x_xor we have changed x, i.e. \n",
    "$$ \\bar{x_{0}} \\cdot x_{1} $$\n",
    "and\n",
    "$$ x_{0} \\cdot \\bar{x_{1}} $$"
   ]
  },
  {
   "cell_type": "code",
   "execution_count": 24,
   "metadata": {},
   "outputs": [],
   "source": [
    "x_xor = prepare_for_xor(x)"
   ]
  },
  {
   "cell_type": "markdown",
   "metadata": {},
   "source": [
    "Now we use it as input into OR-neuron "
   ]
  },
  {
   "cell_type": "code",
   "execution_count": 25,
   "metadata": {},
   "outputs": [
    {
     "name": "stdout",
     "output_type": "stream",
     "text": [
      "Learning complete on 3 -th step.\n",
      "\n",
      " \n",
      " \t Blue - ones, red - zeros\n"
     ]
    },
    {
     "data": {
      "image/png": "[encoded data removed]",
      "text/plain": [
       "<Figure size 432x288 with 1 Axes>"
      ]
     },
     "metadata": {
      "needs_background": "light"
     },
     "output_type": "display_data"
    }
   ],
   "source": [
    "n_xor = Neuron(x_xor, labels, np.random.rand(3))\n",
    "n_xor.learn()"
   ]
  },
  {
   "cell_type": "markdown",
   "metadata": {},
   "source": [
    "Notice that we used trained neurons. And the number of points is now three because in x_xor we already had changed x, which contained the following points:"
   ]
  },
  {
   "cell_type": "code",
   "execution_count": 26,
   "metadata": {},
   "outputs": [
    {
     "data": {
      "text/plain": [
       "array([[0., 1.],\n",
       "       [1., 0.],\n",
       "       [0., 0.],\n",
       "       [0., 0.]])"
      ]
     },
     "execution_count": 26,
     "metadata": {},
     "output_type": "execute_result"
    }
   ],
   "source": [
    "x_xor"
   ]
  },
  {
   "cell_type": "markdown",
   "metadata": {},
   "source": [
    "And just like that we have built and trained our own neural network!"
   ]
  }
 ],
 "metadata": {
  "kernelspec": {
   "display_name": "Python 3",
   "language": "python",
   "name": "python3"
  },
  "language_info": {
   "codemirror_mode": {
    "name": "ipython",
    "version": 3
   },
   "file_extension": ".py",
   "mimetype": "text/x-python",
   "name": "python",
   "nbconvert_exporter": "python",
   "pygments_lexer": "ipython3",
   "version": "3.7.1"
  }
 },
 "nbformat": 4,
 "nbformat_minor": 2
}
